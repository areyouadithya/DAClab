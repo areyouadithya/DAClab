{
 "cells": [
  {
   "cell_type": "code",
   "execution_count": 1,
   "metadata": {},
   "outputs": [
    {
     "name": "stdout",
     "output_type": "stream",
     "text": [
      "[[ 2.5 -2.5]\n",
      " [-2.5  2.5]]\n"
     ]
    },
    {
     "data": {
      "image/png": "[encoded data removed]",
      "text/plain": [
       "<Figure size 640x480 with 1 Axes>"
      ]
     },
     "metadata": {},
     "output_type": "display_data"
    }
   ],
   "source": [
    "import numpy as np\n",
    "import matplotlib.pyplot as plt\n",
    "\n",
    "x = np.array([1, 2, 3, 4, 5])\n",
    "y = np.array([5, 4, 3, 2, 1])\n",
    "\n",
    "covariance_matrix = np.cov(x, y)\n",
    "print(covariance_matrix)\n",
    "covariance = covariance_matrix[0, 1]\n",
    "\n",
    "plt.scatter(x, y, label='Data points')\n",
    "\n",
    "plt.xlabel('X')\n",
    "plt.ylabel('Y')\n",
    "plt.title(f'Covariance: {covariance:.2f}')\n",
    "plt.legend()\n",
    "plt.grid(True)\n",
    "plt.show()"
   ]
  },
  {
   "cell_type": "code",
   "execution_count": 6,
   "metadata": {},
   "outputs": [
    {
     "name": "stdout",
     "output_type": "stream",
     "text": [
      "Correlation\n",
      "<bound method DataFrame.corr of      sepal.length  sepal.width  petal.length  petal.width\n",
      "0             5.1          3.5           1.4          0.2\n",
      "1             4.9          3.0           1.4          0.2\n",
      "2             4.7          3.2           1.3          0.2\n",
      "3             4.6          3.1           1.5          0.2\n",
      "4             5.0          3.6           1.4          0.2\n",
      "..            ...          ...           ...          ...\n",
      "146           6.3          2.5           5.0          1.9\n",
      "147           6.5          3.0           5.2          2.0\n",
      "148           6.2          3.4           5.4          2.3\n",
      "149           5.9          3.0           5.1          1.8\n",
      "150           5.9          3.0           5.1          1.8\n",
      "\n",
      "[151 rows x 4 columns]>\n",
      "Covarience\n",
      "              sepal.length  sepal.width  petal.length  petal.width\n",
      "sepal.length      0.681143    -0.042173      1.266324     0.513054\n",
      "sepal.width      -0.042173     0.188735     -0.327968    -0.121057\n",
      "petal.length      1.266324    -0.327968      3.107430     1.292310\n",
      "petal.width       0.513054    -0.121057      1.292310     0.579522\n"
     ]
    }
   ],
   "source": [
    "import pandas as pd\n",
    "\n",
    "data = pd.read_csv(\"iris.csv\")\n",
    "df = pd.DataFrame(data)\n",
    "df = df.drop(\"variety\", axis = 1)\n",
    "print(\"Correlation\")\n",
    "print(df.corr)\n",
    "print(\"Covarience\")\n",
    "print(df.cov())"
   ]
  },
  {
   "cell_type": "code",
   "execution_count": 10,
   "metadata": {},
   "outputs": [
    {
     "name": "stdout",
     "output_type": "stream",
     "text": [
      "                         sepal.length  petal.length\n",
      "variety                                            \n",
      "Setosa     sepal.length      0.124249      0.016355\n",
      "           petal.length      0.016355      0.030159\n",
      "Versicolor sepal.length      0.266433      0.182898\n",
      "           petal.length      0.182898      0.220816\n",
      "Virginica  sepal.length      0.405537      0.303322\n",
      "           petal.length      0.303322      0.302502\n",
      "                         sepal.length  petal.length\n",
      "variety                                            \n",
      "Setosa     sepal.length      1.000000      0.267176\n",
      "           petal.length      0.267176      1.000000\n",
      "Versicolor sepal.length      1.000000      0.754049\n",
      "           petal.length      0.754049      1.000000\n",
      "Virginica  sepal.length      1.000000      0.866012\n",
      "           petal.length      0.866012      1.000000\n"
     ]
    }
   ],
   "source": [
    "import pandas as pd\n",
    "data = pd.read_csv(\"iris.csv\")\n",
    "df = pd.DataFrame(data)\n",
    "group_variety = df.groupby('variety')\n",
    "print(group_variety[[\"sepal.length\", \"petal.length\"]].cov())\n",
    "print(group_variety[[\"sepal.length\", \"petal.length\"]].corr())"
   ]
  }
 ],
 "metadata": {
  "kernelspec": {
   "display_name": "Python 3",
   "language": "python",
   "name": "python3"
  },
  "language_info": {
   "codemirror_mode": {
    "name": "ipython",
    "version": 3
   },
   "file_extension": ".py",
   "mimetype": "text/x-python",
   "name": "python",
   "nbconvert_exporter": "python",
   "pygments_lexer": "ipython3",
   "version": "3.12.0"
  }
 },
 "nbformat": 4,
 "nbformat_minor": 2
}
