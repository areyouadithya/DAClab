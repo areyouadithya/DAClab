{
 "cells": [
  {
   "cell_type": "code",
   "execution_count": 1,
   "metadata": {},
   "outputs": [
    {
     "name": "stdout",
     "output_type": "stream",
     "text": [
      "83.75\n"
     ]
    }
   ],
   "source": [
    "import numpy as np\n",
    "import pandas as pd\n",
    "data = pd.read_csv(\"iris.csv\")\n",
    "speed = [88,89,80,80,81,85,84,83]\n",
    "result = np.mean(speed)\n",
    "print(result)"
   ]
  },
  {
   "cell_type": "code",
   "execution_count": 2,
   "metadata": {},
   "outputs": [
    {
     "name": "stdout",
     "output_type": "stream",
     "text": [
      "83.5\n"
     ]
    }
   ],
   "source": [
    "import numpy as np\n",
    "speed = [88,89,80,80,81,85,84,83]\n",
    "result = np.median(speed)\n",
    "print(result)"
   ]
  },
  {
   "cell_type": "code",
   "execution_count": 4,
   "metadata": {},
   "outputs": [
    {
     "name": "stdout",
     "output_type": "stream",
     "text": [
      "ModeResult(mode=80, count=2)\n"
     ]
    }
   ],
   "source": [
    "from scipy import stats\n",
    "speed = [88,89,80,80,81,85,84,83]\n",
    "result = stats.mode(speed)\n",
    "print(result)"
   ]
  },
  {
   "cell_type": "code",
   "execution_count": 7,
   "metadata": {},
   "outputs": [
    {
     "name": "stdout",
     "output_type": "stream",
     "text": [
      "3.2307119958300214\n"
     ]
    }
   ],
   "source": [
    "import numpy as np\n",
    "speed = [88,89,80,80,81,85,84,83]\n",
    "result = np.std(speed)\n",
    "print(result)"
   ]
  },
  {
   "cell_type": "code",
   "execution_count": 15,
   "metadata": {},
   "outputs": [
    {
     "name": "stdout",
     "output_type": "stream",
     "text": [
      "83.75\n",
      "83.5\n",
      "80\n",
      "3.453776401067595\n"
     ]
    }
   ],
   "source": [
    "import statistics as stats\n",
    "speed = [88,89,80,80,81,85,84,83]\n",
    "result = stats.mean(speed)\n",
    "print(result)\n",
    "result = stats.median(speed)\n",
    "print(result)\n",
    "result = stats.mode(speed)\n",
    "print(result)\n",
    "result = stats.stdev(speed)\n",
    "print(result)\n"
   ]
  },
  {
   "cell_type": "code",
   "execution_count": 4,
   "metadata": {},
   "outputs": [
    {
     "name": "stdout",
     "output_type": "stream",
     "text": [
      "sepal.length    5.843709\n",
      "sepal.width     3.056954\n",
      "petal.length    3.766887\n",
      "petal.width     1.203311\n",
      "dtype: float64\n",
      "sepal.length    5.8\n",
      "sepal.width     3.0\n",
      "petal.length    4.4\n",
      "petal.width     1.3\n",
      "dtype: float64\n",
      "   sepal.length  sepal.width  petal.length  petal.width\n",
      "0           5.0          3.0           1.4          0.2\n",
      "1           NaN          NaN           1.5          NaN\n",
      "sepal.length    0.825314\n",
      "sepal.width     0.434436\n",
      "petal.length    1.762790\n",
      "petal.width     0.761264\n",
      "dtype: float64\n",
      "              sepal.length  sepal.width  petal.length  petal.width\n",
      "sepal.length      0.681143    -0.042173      1.266324     0.513054\n",
      "sepal.width      -0.042173     0.188735     -0.327968    -0.121057\n",
      "petal.length      1.266324    -0.327968      3.107430     1.292310\n",
      "petal.width       0.513054    -0.121057      1.292310     0.579522\n",
      "              sepal.length  sepal.width  petal.length  petal.width\n",
      "sepal.length      1.000000    -0.117621      0.870412     0.816599\n",
      "sepal.width      -0.117621     1.000000     -0.428258    -0.366039\n",
      "petal.length      0.870412    -0.428258      1.000000     0.963011\n",
      "petal.width       0.816599    -0.366039      0.963011     1.000000\n"
     ]
    }
   ],
   "source": [
    "import statistics as stats\n",
    "import pandas as pd\n",
    "data = pd.read_csv(\"iris.csv\");\n",
    "new_data = data.drop(\"variety\", axis = 1)\n",
    "print(new_data.mean())\n",
    "print(new_data.median())\n",
    "print(new_data.mode())\n",
    "print(new_data.std())\n",
    "print(new_data.cov())\n",
    "print(new_data.corr())"
   ]
  },
  {
   "cell_type": "code",
   "execution_count": 29,
   "metadata": {},
   "outputs": [
    {
     "name": "stdout",
     "output_type": "stream",
     "text": [
      "80.75\n",
      "83.5\n",
      "85.75\n",
      "      sepal.length  sepal.width  petal.length  petal.width\n",
      "0.25           5.1          2.8           1.6          0.3\n",
      "0.50           5.8          3.0           4.4          1.3\n",
      "0.75           6.4          3.3           5.1          1.8\n"
     ]
    }
   ],
   "source": [
    "import numpy as np \n",
    "import pandas as pd\n",
    "data = pd.read_csv(\"iris.csv\")\n",
    "new_data = data.drop(\"variety\", axis=1)\n",
    "speed = [88,89,80,80,81,85,84,83]\n",
    "result = np.percentile(speed,25)\n",
    "print(result)\n",
    "result = np.percentile(speed,50)\n",
    "print(result)\n",
    "result = np.percentile(speed,75)\n",
    "print(result)\n",
    "print(new_data.quantile([0.25, 0.5, 0.75]))"
   ]
  },
  {
   "cell_type": "code",
   "execution_count": 9,
   "metadata": {},
   "outputs": [
    {
     "name": "stdout",
     "output_type": "stream",
     "text": [
      "       sepal.length  sepal.width  petal.length  petal.width\n",
      "count    151.000000   151.000000    151.000000   151.000000\n",
      "mean       5.843709     3.056954      3.766887     1.203311\n",
      "std        0.825314     0.434436      1.762790     0.761264\n",
      "min        4.300000     2.000000      1.000000     0.100000\n",
      "25%        5.100000     2.800000      1.600000     0.300000\n",
      "50%        5.800000     3.000000      4.400000     1.300000\n",
      "75%        6.400000     3.300000      5.100000     1.800000\n",
      "max        7.900000     4.400000      6.900000     2.500000\n",
      "     sepal.length  sepal.width  petal.length  petal.width    variety\n",
      "0             5.1          3.5           1.4          0.2     Setosa\n",
      "1             4.9          3.0           1.4          0.2     Setosa\n",
      "2             4.7          3.2           1.3          0.2     Setosa\n",
      "3             4.6          3.1           1.5          0.2     Setosa\n",
      "4             5.0          3.6           1.4          0.2     Setosa\n",
      "..            ...          ...           ...          ...        ...\n",
      "146           6.3          2.5           5.0          1.9  Virginica\n",
      "147           6.5          3.0           5.2          2.0  Virginica\n",
      "148           6.2          3.4           5.4          2.3  Virginica\n",
      "149           5.9          3.0           5.1          1.8  Virginica\n",
      "150           5.9          3.0           5.1          1.8  Virginica\n",
      "\n",
      "[151 rows x 5 columns]\n",
      "1.266323620309051\n",
      "0.8704117707964758\n"
     ]
    }
   ],
   "source": [
    "import pandas as pd\n",
    "import numpy as np\n",
    "\n",
    "data = pd.read_csv(\"iris.csv\")\n",
    "dataframe = pd.DataFrame(data)\n",
    "describe = dataframe.describe();\n",
    "print(describe)\n",
    "print(dataframe)\n",
    "covariance = dataframe[\"sepal.length\"].cov(dataframe[\"petal.length\"])\n",
    "print(covariance)\n",
    "correlation = dataframe[\"sepal.length\"].corr(dataframe[\"petal.length\"])\n",
    "print(correlation)"
   ]
  },
  {
   "cell_type": "code",
   "execution_count": 10,
   "metadata": {},
   "outputs": [
    {
     "name": "stdout",
     "output_type": "stream",
     "text": [
      "              sepal.length  sepal.width  petal.length  petal.width\n",
      "sepal.length      1.000000    -0.117621      0.870412     0.816599\n",
      "sepal.width      -0.117621     1.000000     -0.428258    -0.366039\n",
      "petal.length      0.870412    -0.428258      1.000000     0.963011\n",
      "petal.width       0.816599    -0.366039      0.963011     1.000000\n",
      "              sepal.length  sepal.width  petal.length  petal.width\n",
      "sepal.length      0.681143    -0.042173      1.266324     0.513054\n",
      "sepal.width      -0.042173     0.188735     -0.327968    -0.121057\n",
      "petal.length      1.266324    -0.327968      3.107430     1.292310\n",
      "petal.width       0.513054    -0.121057      1.292310     0.579522\n"
     ]
    }
   ],
   "source": [
    "import numpy as np\n",
    "import pandas as pd\n",
    "\n",
    "data = pd.read_csv(\"iris.csv\")\n",
    "new_data = data.drop(\"variety\", axis = 1)\n",
    "matrix = new_data.corr()\n",
    "print(matrix)\n",
    "cov = new_data.cov()\n",
    "print(cov)"
   ]
  },
  {
   "cell_type": "code",
   "execution_count": 14,
   "metadata": {},
   "outputs": [
    {
     "name": "stdout",
     "output_type": "stream",
     "text": [
      "[5.1 4.9 4.7 4.6 5.  5.4 4.6 5.  4.4 4.9 5.4 4.8 4.8 4.3 5.8 5.7 5.4 5.1\n",
      " 5.7 5.1 5.4 5.1 4.6 5.1 4.8 5.  5.  5.2 5.2 4.7 4.8 5.4 5.2 5.5 4.9 5.\n",
      " 5.5 4.9 4.4 5.1 5.  4.5 4.4 5.  5.1 4.8 5.1 4.6 5.3 5.  7.  6.4 6.9 5.5\n",
      " 6.5 5.7 6.3 4.9 6.6 5.2 5.  5.9 6.  6.1 5.6 6.7 5.6 5.8 6.2 5.6 5.9 6.1\n",
      " 6.3 6.1 6.4 6.6 6.8 6.7 6.  5.7 5.5 5.5 5.8 6.  5.4 6.  6.7 6.3 5.6 5.5\n",
      " 5.5 6.1 5.8 5.  5.6 5.7 5.7 6.2 5.1 5.7 6.3 5.8 7.1 6.3 6.5 7.6 4.9 7.3\n",
      " 6.7 7.2 6.5 6.4 6.8 5.7 5.8 6.4 6.5 7.7 7.7 6.  6.9 5.6 7.7 6.3 6.7 7.2\n",
      " 6.2 6.1 6.4 7.2 7.4 7.9 6.4 6.3 6.1 7.7 6.3 6.4 6.  6.9 6.7 6.9 5.8 6.8\n",
      " 6.7 6.7 6.3 6.5 6.2 5.9 5.9]\n",
      "7.9\n",
      "4.3\n"
     ]
    }
   ],
   "source": [
    "dataframe = pd.read_csv(\"iris.csv\")\n",
    "arr = np.array(dataframe[\"sepal.length\"])\n",
    "print(arr)\n",
    "maxi = max(arr)\n",
    "print(maxi)\n",
    "mini = min(arr)\n",
    "print(mini)"
   ]
  },
  {
   "cell_type": "code",
   "execution_count": 4,
   "metadata": {},
   "outputs": [
    {
     "name": "stdout",
     "output_type": "stream",
     "text": [
      "              sepal.length  sepal.width  petal.length  petal.width\n",
      "sepal.length      0.681143    -0.042173      1.266324     0.513054\n",
      "sepal.width      -0.042173     0.188735     -0.327968    -0.121057\n",
      "petal.length      1.266324    -0.327968      3.107430     1.292310\n",
      "petal.width       0.513054    -0.121057      1.292310     0.579522\n"
     ]
    }
   ],
   "source": [
    "new_data = data.drop(\"variety\", axis = 1)\n",
    "matrix = new_data.cov()\n",
    "print(matrix)"
   ]
  }
 ],
 "metadata": {
  "kernelspec": {
   "display_name": "Python 3",
   "language": "python",
   "name": "python3"
  },
  "language_info": {
   "codemirror_mode": {
    "name": "ipython",
    "version": 3
   },
   "file_extension": ".py",
   "mimetype": "text/x-python",
   "name": "python",
   "nbconvert_exporter": "python",
   "pygments_lexer": "ipython3",
   "version": "3.12.0"
  }
 },
 "nbformat": 4,
 "nbformat_minor": 2
}
