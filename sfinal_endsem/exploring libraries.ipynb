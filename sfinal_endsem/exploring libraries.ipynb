{
 "cells": [
  {
   "cell_type": "code",
   "execution_count": 5,
   "metadata": {},
   "outputs": [
    {
     "name": "stdout",
     "output_type": "stream",
     "text": [
      "    0\n",
      "0  88\n",
      "1  89\n",
      "2  80\n",
      "3  80\n",
      "4  81\n",
      "5  85\n",
      "6  84\n",
      "7  83\n"
     ]
    }
   ],
   "source": [
    "import pandas as pd\n",
    "speed = [88,89,80,80,81,85,84,83]\n",
    "dataframe = pd.DataFrame(speed)\n",
    "print(dataframe)"
   ]
  },
  {
   "cell_type": "code",
   "execution_count": 24,
   "metadata": {},
   "outputs": [
    {
     "name": "stdout",
     "output_type": "stream",
     "text": [
      "sepal.length       5.1\n",
      "sepal.width        3.5\n",
      "petal.length       1.4\n",
      "petal.width        0.2\n",
      "variety         Setosa\n",
      "Name: 0, dtype: object\n",
      "            sepal.length  sepal.width  petal.length  petal.width\n",
      "variety                                                         \n",
      "Setosa               5.8          4.4           1.9          0.6\n",
      "Versicolor           7.0          3.4           5.1          1.8\n",
      "Virginica            7.9          3.8           6.9          2.5\n",
      "            sepal.length  sepal.width  petal.length  petal.width\n",
      "variety                                                         \n",
      "Setosa               4.3          2.3           1.0          0.1\n",
      "Versicolor           4.9          2.0           3.0          1.0\n",
      "Virginica            4.9          2.2           4.5          1.4\n",
      "            sepal.length  sepal.width  petal.length  petal.width\n",
      "variety                                                         \n",
      "Setosa           5.00600      3.42800      1.462000     0.246000\n",
      "Versicolor       5.93600      2.77000      4.260000     1.326000\n",
      "Virginica        6.57451      2.97451      5.543137     2.021569\n",
      "            sepal.length  sepal.width  petal.length  petal.width\n",
      "variety                                                         \n",
      "Setosa               5.0          3.4          1.50          0.2\n",
      "Versicolor           5.9          2.8          4.35          1.3\n",
      "Virginica            6.5          3.0          5.50          2.0\n",
      "<pandas.core.groupby.generic.DataFrameGroupBy object at 0x00000230BA8F6B40>\n",
      "5.1\n",
      "5.5\n",
      "6.3\n"
     ]
    }
   ],
   "source": [
    "import pandas as pd\n",
    "import numpy as np\n",
    "import statistics as stats\n",
    "data = pd.read_csv(\"iris.csv\")\n",
    "df = pd.DataFrame(data)\n",
    "print(df.loc[0])\n",
    "group_setosa = df.groupby(\"variety\")\n",
    "print(group_setosa.max())\n",
    "print(group_setosa.min())\n",
    "print(group_setosa.mean())\n",
    "print(group_setosa.median())\n",
    "variety = np.array(group_setosa[\"variety\"].unique())\n",
    "print(group_setosa)\n",
    "variety = np.array(df['variety'].drop_duplicates())\n",
    "for i in variety:\n",
    "    print(stats.mode(group_setosa.get_group(i)[\"sepal.length\"]))\n",
    "\n"
   ]
  },
  {
   "cell_type": "code",
   "execution_count": 25,
   "metadata": {},
   "outputs": [
    {
     "name": "stdout",
     "output_type": "stream",
     "text": [
      "        name age marks\n",
      "0  hariharan  19    89\n",
      "1      mukil  20    90\n",
      "        name age\n",
      "0  hariharan  19\n",
      "1      mukil  20\n",
      "[['hariharan' '19' '89']]\n"
     ]
    }
   ],
   "source": [
    "import pandas as pd\n",
    "details = {\"name\" : [\"hariharan\", \"mukil\"], \"age\" : [\"19\",\"20\"], \"marks\" : [\"89\", \"90\"] }\n",
    "dataframe = pd.DataFrame(details)\n",
    "print(dataframe)\n",
    "print(dataframe[[\"name\", \"age\"]])\n",
    "data = np.array(dataframe.loc[dataframe[\"name\"] == \"hariharan\"])\n",
    "print(data)"
   ]
  },
  {
   "cell_type": "code",
   "execution_count": 27,
   "metadata": {},
   "outputs": [
    {
     "name": "stdout",
     "output_type": "stream",
     "text": [
      "sepal.length\n",
      "5.1    3.5\n",
      "4.9    3.0\n",
      "4.7    3.2\n",
      "4.6    3.1\n",
      "5.0    3.6\n",
      "      ... \n",
      "6.7    3.0\n",
      "6.3    2.5\n",
      "6.5    3.0\n",
      "6.2    3.4\n",
      "5.9    3.0\n",
      "Name: sepal.width, Length: 150, dtype: float64\n",
      "sepal.length\n",
      "5.1    3.5\n",
      "4.9    3.0\n",
      "4.7    3.2\n",
      "4.6    3.1\n",
      "5.0    3.6\n",
      "Name: sepal.width, dtype: float64\n",
      "sepal.length\n",
      "6.7    3.0\n",
      "6.3    2.5\n",
      "6.5    3.0\n",
      "6.2    3.4\n",
      "5.9    3.0\n",
      "Name: sepal.width, dtype: float64\n"
     ]
    }
   ],
   "source": [
    "import pandas as pd \n",
    "data = pd.read_csv(\"iris.csv\", index_col=\"sepal.length\")\n",
    "dataframe = pd.DataFrame(data)\n",
    "print(dataframe[\"sepal.width\"])\n",
    "print(dataframe[\"sepal.width\"].head())\n",
    "print(dataframe[\"sepal.width\"].tail())"
   ]
  },
  {
   "cell_type": "code",
   "execution_count": 38,
   "metadata": {},
   "outputs": [
    {
     "name": "stdout",
     "output_type": "stream",
     "text": [
      "     sepal.length  sepal.width  petal.length  petal.width    variety\n",
      "150           5.9          3.0           5.1          1.8  Hariharan\n",
      "sepal.length       4.6\n",
      "sepal.width        3.1\n",
      "petal.length       1.5\n",
      "petal.width        0.2\n",
      "variety         Setosa\n",
      "Name: 3, dtype: object\n"
     ]
    }
   ],
   "source": [
    "#selecting a row\n",
    "import pandas as pd\n",
    "data  = pd.read_csv(\"iris.csv\");\n",
    "dataframe = pd.DataFrame(data);\n",
    "variety = dataframe.loc[dataframe[\"variety\"] == \"Hariharan\"]\n",
    "print(variety.head())\n",
    "single = dataframe.iloc[3]\n",
    "print(single)"
   ]
  },
  {
   "cell_type": "code",
   "execution_count": 34,
   "metadata": {},
   "outputs": [
    {
     "name": "stdout",
     "output_type": "stream",
     "text": [
      "0    1.4\n",
      "1    1.4\n",
      "2    1.3\n",
      "3    1.5\n",
      "4    1.4\n",
      "Name: petal.length, dtype: float64\n"
     ]
    }
   ],
   "source": [
    "#selecting column\n",
    "import pandas as pd\n",
    "data = pd.read_csv(\"iris.csv\")\n",
    "dataframe = pd.DataFrame(data)\n",
    "print(dataframe[\"petal.length\"].head())"
   ]
  },
  {
   "cell_type": "code",
   "execution_count": 2,
   "metadata": {},
   "outputs": [
    {
     "name": "stdout",
     "output_type": "stream",
     "text": [
      "   first  second  third\n",
      "0  False    True  False\n",
      "1   True   False  False\n",
      "2  False   False  False\n",
      "3  False    True  False\n",
      "4   True   False  False\n",
      "   first  second  third\n",
      "0   True   False   True\n",
      "1  False    True   True\n",
      "2   True    True   True\n",
      "3   True   False   True\n",
      "4  False    True   True\n",
      "   first  second  third\n",
      "2   80.0    87.0     80\n",
      "   first  second  third\n",
      "0   99.0     0.0     90\n",
      "1    0.0    89.0     89\n",
      "2   80.0    87.0     80\n",
      "3   76.0     0.0     78\n",
      "4    0.0    90.0     81\n",
      "   first  second  third\n",
      "0   99.0     NaN     90\n",
      "1   99.0    89.0     89\n",
      "2   80.0    87.0     80\n",
      "3   76.0    87.0     78\n",
      "4   76.0    90.0     81\n",
      "   first  second  third\n",
      "0   99.0    89.0     90\n",
      "1   80.0    89.0     89\n",
      "2   80.0    87.0     80\n",
      "3   76.0    90.0     78\n",
      "4    NaN    90.0     81\n",
      "   first  second  third\n",
      "0   99.0   -99.0     90\n",
      "1  -99.0    89.0     89\n",
      "2   80.0    87.0     80\n",
      "3   76.0   -99.0     78\n",
      "4  -99.0    90.0     81\n",
      "   first  second  third\n",
      "0   99.0    89.0     90\n",
      "1   89.5    89.0     89\n",
      "2   80.0    87.0     80\n",
      "3   76.0    88.5     78\n",
      "4   76.0    90.0     81\n"
     ]
    },
    {
     "name": "stderr",
     "output_type": "stream",
     "text": [
      "C:\\Users\\Hariharan.I.S\\AppData\\Local\\Temp\\ipykernel_23092\\3700678382.py:11: FutureWarning: DataFrame.fillna with 'method' is deprecated and will raise in a future version. Use obj.ffill() or obj.bfill() instead.\n",
      "  print(dataframe.fillna(method = \"pad\"))\n",
      "C:\\Users\\Hariharan.I.S\\AppData\\Local\\Temp\\ipykernel_23092\\3700678382.py:12: FutureWarning: DataFrame.fillna with 'method' is deprecated and will raise in a future version. Use obj.ffill() or obj.bfill() instead.\n",
      "  print(dataframe.fillna(method = \"bfill\"))\n"
     ]
    }
   ],
   "source": [
    "import pandas as pd\n",
    "import numpy as np\n",
    "details = { \"first\" : [99 ,np.nan ,80 , 76, np.nan],\n",
    "           \"second\" : [np.nan, 89, 87, np.nan, 90],\n",
    "           \"third\" : [90, 89, 80, 78, 81]}\n",
    "dataframe = pd.DataFrame(details)\n",
    "print(dataframe.isnull())\n",
    "print(dataframe.notnull())\n",
    "print(dataframe.dropna())\n",
    "print(dataframe.fillna(0))\n",
    "print(dataframe.fillna(method = \"pad\"))\n",
    "print(dataframe.fillna(method = \"bfill\"))\n",
    "print(dataframe.replace(to_replace= np.nan, value = -99))\n",
    "print(dataframe.interpolate(method = \"linear\", limit_direction = \"both\"))\n"
   ]
  },
  {
   "cell_type": "code",
   "execution_count": 4,
   "metadata": {},
   "outputs": [
    {
     "name": "stdout",
     "output_type": "stream",
     "text": [
      "0 first     99.0\n",
      "second     NaN\n",
      "third     90.0\n",
      "Name: 0, dtype: float64\n",
      "\n",
      "\n",
      "1 first      NaN\n",
      "second    89.0\n",
      "third     89.0\n",
      "Name: 1, dtype: float64\n",
      "\n",
      "\n",
      "2 first     80.0\n",
      "second    87.0\n",
      "third     80.0\n",
      "Name: 2, dtype: float64\n",
      "\n",
      "\n",
      "3 first     76.0\n",
      "second     NaN\n",
      "third     78.0\n",
      "Name: 3, dtype: float64\n",
      "\n",
      "\n",
      "4 first      NaN\n",
      "second    90.0\n",
      "third     81.0\n",
      "Name: 4, dtype: float64\n",
      "\n",
      "\n"
     ]
    }
   ],
   "source": [
    "import pandas as pd\n",
    "import numpy as np\n",
    "details = { \"first\" : [99 ,np.nan ,80 , 76, np.nan],\n",
    "           \"second\" : [np.nan, 89, 87, np.nan, 90],\n",
    "           \"third\" : [90, 89, 80, 78, 81]}\n",
    "dataframe = pd.DataFrame(details)\n",
    "for i,j in dataframe.iterrows(): \n",
    "    print(i, j)\n",
    "    print(\"\\n\")"
   ]
  },
  {
   "cell_type": "code",
   "execution_count": 70,
   "metadata": {},
   "outputs": [
    {
     "name": "stdout",
     "output_type": "stream",
     "text": [
      "0    99.0\n",
      "1     NaN\n",
      "2    80.0\n",
      "3    76.0\n",
      "4     NaN\n",
      "Name: first, dtype: float64\n",
      "0     NaN\n",
      "1    89.0\n",
      "2    87.0\n",
      "3     NaN\n",
      "4    90.0\n",
      "Name: second, dtype: float64\n",
      "0    90\n",
      "1    89\n",
      "2    80\n",
      "3    78\n",
      "4    81\n",
      "Name: third, dtype: int64\n"
     ]
    }
   ],
   "source": [
    "import pandas as pd\n",
    "import numpy as np\n",
    "details = { \"first\" : [99 ,np.nan ,80 , 76, np.nan],\n",
    "           \"second\" : [np.nan, 89, 87, np.nan, 90],\n",
    "           \"third\" : [90, 89, 80, 78, 81]}\n",
    "dataframe = pd.DataFrame(details)\n",
    "column = list(dataframe)\n",
    "for j in column:\n",
    "    print(dataframe[j])"
   ]
  },
  {
   "cell_type": "code",
   "execution_count": 72,
   "metadata": {},
   "outputs": [
    {
     "name": "stdout",
     "output_type": "stream",
     "text": [
      "     sepal.length  sepal.width  petal.length  petal.width    variety\n",
      "0             5.1          3.5           1.4          0.2     Setosa\n",
      "1             4.9          3.0           1.4          0.2     Setosa\n",
      "2             4.7          3.2           1.3          0.2     Setosa\n",
      "3             4.6          3.1           1.5          0.2     Setosa\n",
      "4             5.0          3.6           1.4          0.2     Setosa\n",
      "..            ...          ...           ...          ...        ...\n",
      "146           6.3          2.5           5.0          1.9  Virginica\n",
      "147           6.5          3.0           5.2          2.0  Virginica\n",
      "148           6.2          3.4           5.4          2.3  Virginica\n",
      "149           5.9          3.0           5.1          1.8  Virginica\n",
      "150           5.9          3.0           5.1          1.8  Hariharan\n",
      "\n",
      "[151 rows x 5 columns]\n"
     ]
    }
   ],
   "source": [
    "import pandas as pd\n",
    "data  = pd.read_csv(\"iris.csv\")\n",
    "dataframe = pd.DataFrame(data)\n",
    "print(dataframe)"
   ]
  }
 ],
 "metadata": {
  "kernelspec": {
   "display_name": "Python 3",
   "language": "python",
   "name": "python3"
  },
  "language_info": {
   "codemirror_mode": {
    "name": "ipython",
    "version": 3
   },
   "file_extension": ".py",
   "mimetype": "text/x-python",
   "name": "python",
   "nbconvert_exporter": "python",
   "pygments_lexer": "ipython3",
   "version": "3.12.0"
  }
 },
 "nbformat": 4,
 "nbformat_minor": 2
}
